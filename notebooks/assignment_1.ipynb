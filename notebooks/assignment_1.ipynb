{
 "cells": [
  {
   "cell_type": "markdown",
   "source": [
    "# Load the Iris Dataset:\n",
    "The Iris dataset is going to be loaded from the CSV file using `pandas`:"
   ],
   "metadata": {
    "collapsed": false
   },
   "id": "38de0e7f662b7458"
  },
  {
   "cell_type": "code",
   "execution_count": 2,
   "outputs": [],
   "source": [
    "import pandas as pd\n",
    "iris_data = pd.read_csv(\"../data/iris_dataset.csv\") "
   ],
   "metadata": {
    "collapsed": false,
    "ExecuteTime": {
     "end_time": "2023-09-17T17:25:08.061458Z",
     "start_time": "2023-09-17T17:25:07.343368300Z"
    }
   },
   "id": "34bd1479ad01c3d"
  },
  {
   "cell_type": "markdown",
   "source": [
    "# Display basic statistics"
   ],
   "metadata": {
    "collapsed": false
   },
   "id": "bdf089815f745006"
  },
  {
   "cell_type": "code",
   "execution_count": 3,
   "outputs": [
    {
     "name": "stdout",
     "output_type": "stream",
     "text": [
      "Basic Statistics:\n",
      "               Id  SepalLengthCm  SepalWidthCm  PetalLengthCm  PetalWidthCm\n",
      "count  150.000000     150.000000    150.000000     150.000000    150.000000\n",
      "mean    75.500000       5.843333      3.054000       3.758667      1.198667\n",
      "std     43.445368       0.828066      0.433594       1.764420      0.763161\n",
      "min      1.000000       4.300000      2.000000       1.000000      0.100000\n",
      "25%     38.250000       5.100000      2.800000       1.600000      0.300000\n",
      "50%     75.500000       5.800000      3.000000       4.350000      1.300000\n",
      "75%    112.750000       6.400000      3.300000       5.100000      1.800000\n",
      "max    150.000000       7.900000      4.400000       6.900000      2.500000\n"
     ]
    }
   ],
   "source": [
    "print(\"Basic Statistics:\")\n",
    "print(iris_data.describe())"
   ],
   "metadata": {
    "collapsed": false,
    "ExecuteTime": {
     "end_time": "2023-09-17T17:25:10.886327200Z",
     "start_time": "2023-09-17T17:25:10.824698500Z"
    }
   },
   "id": "4b8c221a0710af58"
  },
  {
   "cell_type": "markdown",
   "source": [
    "# Calculate mean, median, and standard deviation for each class separately\n",
    "I use Pandas' built-in aggregation functions to aggregate"
   ],
   "metadata": {
    "collapsed": false
   },
   "id": "51488311f1ec5755"
  },
  {
   "cell_type": "code",
   "execution_count": 7,
   "outputs": [
    {
     "name": "stdout",
     "output_type": "stream",
     "text": [
      "Class-wise Statistics:\n",
      "                SepalLengthCm                  SepalWidthCm                   \\\n",
      "                         mean median       std         mean median       std   \n",
      "Species                                                                        \n",
      "Iris-setosa             5.006    5.0  0.352490        3.418    3.4  0.381024   \n",
      "Iris-versicolor         5.936    5.9  0.516171        2.770    2.8  0.313798   \n",
      "Iris-virginica          6.588    6.5  0.635880        2.974    3.0  0.322497   \n",
      "\n",
      "                PetalLengthCm                  PetalWidthCm                   \n",
      "                         mean median       std         mean median       std  \n",
      "Species                                                                       \n",
      "Iris-setosa             1.464   1.50  0.173511        0.244    0.2  0.107210  \n",
      "Iris-versicolor         4.260   4.35  0.469911        1.326    1.3  0.197753  \n",
      "Iris-virginica          5.552   5.55  0.551895        2.026    2.0  0.274650  \n"
     ]
    }
   ],
   "source": [
    "agg_funcs = {\n",
    "    'SepalLengthCm': ['mean', 'median', 'std'],\n",
    "    'SepalWidthCm': ['mean', 'median', 'std'],\n",
    "    'PetalLengthCm': ['mean', 'median', 'std'],\n",
    "    'PetalWidthCm': ['mean', 'median', 'std']\n",
    "}\n",
    "\n",
    "class_stats = iris_data.groupby(\"Species\").agg(agg_funcs)\n",
    "print(\"Class-wise Statistics:\")\n",
    "print(class_stats)"
   ],
   "metadata": {
    "collapsed": false,
    "ExecuteTime": {
     "end_time": "2023-09-17T17:29:28.621176300Z",
     "start_time": "2023-09-17T17:29:28.580410500Z"
    }
   },
   "id": "5848abb5530e84f1"
  },
  {
   "cell_type": "code",
   "execution_count": null,
   "outputs": [],
   "source": [],
   "metadata": {
    "collapsed": false
   },
   "id": "28944cf0dfd63a9d"
  }
 ],
 "metadata": {
  "kernelspec": {
   "display_name": "Python 3",
   "language": "python",
   "name": "python3"
  },
  "language_info": {
   "codemirror_mode": {
    "name": "ipython",
    "version": 2
   },
   "file_extension": ".py",
   "mimetype": "text/x-python",
   "name": "python",
   "nbconvert_exporter": "python",
   "pygments_lexer": "ipython2",
   "version": "2.7.6"
  }
 },
 "nbformat": 4,
 "nbformat_minor": 5
}
